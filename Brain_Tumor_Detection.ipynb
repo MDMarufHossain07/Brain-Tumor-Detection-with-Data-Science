{
  "nbformat": 4,
  "nbformat_minor": 0,
  "metadata": {
    "colab": {
      "name": "Brain Tumor Detection.ipynb",
      "provenance": [],
      "collapsed_sections": []
    },
    "kernelspec": {
      "name": "python3",
      "display_name": "Python 3"
    },
    "language_info": {
      "name": "python"
    }
  },
  "cells": [
    {
      "cell_type": "code",
      "execution_count": null,
      "metadata": {
        "id": "2ot5KSK7mpOA"
      },
      "outputs": [],
      "source": [
        "# This Python 3 environment comes with many helpful analytics libraries installed\n",
        "# It is defined by the kaggle/python Docker image: https://github.com/kaggle/docker-python\n",
        "# For example, here's several helpful packages to load\n",
        "\n",
        "import numpy as np # linear algebra\n",
        "import pandas as pd # data processing, CSV file I/O (e.g. pd.read_csv)\n",
        "\n",
        "# Input data files are available in the read-only \"../input/\" directory\n",
        "# For example, running this (by clicking run or pressing Shift+Enter) will list all files under the input directory\n",
        "\n",
        "import os\n",
        "# for dirname, _, filenames in os.walk('/kaggle/input'):\n",
        "#     for filename in filenames:\n",
        "#         print(os.path.join(dirname, filename))\n",
        "from sklearn.model_selection import train_test_split\n",
        "import tensorflow as tf\n",
        "from tensorflow import keras\n",
        "import cv2 as cv\n",
        "import glob as gb\n",
        "import matplotlib.pyplot as plt\n",
        "from keras.layers import Dense,Dropout,Conv2D,MaxPooling2D,BatchNormalization ,Flatten\n",
        "from keras.models import Sequential,Model\n",
        "from sklearn.utils import shuffle\n",
        "from keras.callbacks import EarlyStopping\n",
        "from keras.preprocessing.image import ImageDataGenerator\n",
        "from sklearn.metrics import classification_report\n",
        "from sklearn.metrics import confusion_matrix\n",
        "\n",
        "\n",
        "# You can write up to 20GB to the current directory (/kaggle/working/) that gets preserved as output when you create a version using \"Save & Run All\" \n",
        "# You can also write temporary files to /kaggle/temp/, but they won't be saved outside of the current session"
      ]
    },
    {
      "cell_type": "markdown",
      "source": [
        ""
      ],
      "metadata": {
        "id": "qzDKT18SFJmA"
      }
    },
    {
      "cell_type": "code",
      "source": [
        "from zipfile import ZipFile\n",
        "file_name= \"archive.zip\"\n",
        "with ZipFile(file_name,'r') as zip:\n",
        "  zip.extractall()\n",
        "  print('done')"
      ],
      "metadata": {
        "colab": {
          "base_uri": "https://localhost:8080/"
        },
        "id": "P9ZnTi2hHdiq",
        "outputId": "2a33e56c-b7ba-4c47-f306-e6c36aa3906d"
      },
      "execution_count": null,
      "outputs": [
        {
          "output_type": "stream",
          "name": "stdout",
          "text": [
            "done\n"
          ]
        }
      ]
    },
    {
      "cell_type": "code",
      "source": [
        "paths ={\n",
        "        'path' :'../input/brain-mri-images-for-brain-tumor-detection',\n",
        "        'train':'archive/brain_tumor_dataset',\n",
        "        'test' :'../input/brain-mri-images-for-brain-tumor-detection'\n",
        "        }"
      ],
      "metadata": {
        "id": "qtdhdLaZIgl1"
      },
      "execution_count": null,
      "outputs": []
    },
    {
      "cell_type": "code",
      "source": [
        "def get_size(path):\n",
        "    x =[]\n",
        "    for folder in os.listdir(path):\n",
        "       \n",
        "        files = gb.glob(pathname=str(path+'/'+folder+'/*.jpg'))\n",
        "        \n",
        "        for file in files:\n",
        "            img = plt.imread(file)\n",
        "           \n",
        "            x.append(img.shape)\n",
        "    return x"
      ],
      "metadata": {
        "id": "YnVWlpUlIq0E"
      },
      "execution_count": null,
      "outputs": []
    },
    {
      "cell_type": "code",
      "source": [
        "train_size =get_size(paths['train'])\n",
        "pd.Series(train_size).value_counts()"
      ],
      "metadata": {
        "colab": {
          "base_uri": "https://localhost:8080/"
        },
        "id": "aGoUi7MgIyYz",
        "outputId": "1ea1226b-b160-4d0d-ebd7-1a7b99eff042"
      },
      "execution_count": null,
      "outputs": [
        {
          "output_type": "execute_result",
          "data": {
            "text/plain": [
              "(225, 225, 3)    17\n",
              "(630, 630, 3)     5\n",
              "(251, 201, 3)     5\n",
              "(325, 300)        4\n",
              "(217, 232, 3)     3\n",
              "                 ..\n",
              "(380, 318, 3)     1\n",
              "(246, 205, 3)     1\n",
              "(222, 227, 3)     1\n",
              "(890, 700, 3)     1\n",
              "(218, 180, 3)     1\n",
              "Length: 115, dtype: int64"
            ]
          },
          "metadata": {},
          "execution_count": 45
        }
      ]
    },
    {
      "cell_type": "code",
      "source": [
        "code ={'no':0,'yes':1}\n",
        "def Load_Label_Data(path,image_size):\n",
        "    x = []\n",
        "    y = []\n",
        "    for folder in os.listdir(path):\n",
        "        files = gb.glob(pathname=path+'/'+folder+'/*.jpg')\n",
        "        for file in files:\n",
        "            img = cv.imread(file)\n",
        "            img = cv.resize(img,(image_size,image_size))\n",
        "            x.append(list(img))\n",
        "            del img\n",
        "            y.append(code[folder])\n",
        "    x = np.array(x)\n",
        "    y = np.array(y) \n",
        "    x,y = shuffle(x,y)\n",
        "    return x , y"
      ],
      "metadata": {
        "id": "zlk8UEFLJquS"
      },
      "execution_count": null,
      "outputs": []
    },
    {
      "cell_type": "code",
      "source": [
        "image_size = 224\n",
        "X , y = Load_Label_Data(paths['train'],image_size)"
      ],
      "metadata": {
        "id": "rUguDU9dJtdy"
      },
      "execution_count": null,
      "outputs": []
    },
    {
      "cell_type": "code",
      "source": [
        "plt.imshow(X[0])\n",
        "plt.axis('off')\n",
        "plt.title(y[0])"
      ],
      "metadata": {
        "colab": {
          "base_uri": "https://localhost:8080/",
          "height": 282
        },
        "id": "VDUuqCFxJ4ms",
        "outputId": "a6d0d319-cbce-47da-cfcd-9c2cc41dcc51"
      },
      "execution_count": null,
      "outputs": [
        {
          "output_type": "execute_result",
          "data": {
            "text/plain": [
              "Text(0.5, 1.0, '1')"
            ]
          },
          "metadata": {},
          "execution_count": 48
        },
        {
          "output_type": "display_data",
          "data": {
            "image/png": "[encoded data removed]",
            "text/plain": [
              "<Figure size 432x288 with 1 Axes>"
            ]
          },
          "metadata": {
            "needs_background": "light"
          }
        }
      ]
    },
    {
      "cell_type": "code",
      "source": [
        "X_train,X_test , y_train,y_test=train_test_split(X,y,test_size=.2,random_state=42)"
      ],
      "metadata": {
        "id": "LWFK5q-vKBpD"
      },
      "execution_count": null,
      "outputs": []
    },
    {
      "cell_type": "code",
      "source": [
        "print('y Train before Shape : ', y_train.shape )\n",
        "y_train = keras.utils.to_categorical(y_train,num_classes=2)\n",
        "print('y Train after Shape : ', y_train.shape )\n",
        "print('y Test before Shape : ', y_test.shape )\n",
        "y_test= keras.utils.to_categorical(y_test,num_classes=2)\n",
        "print('y Test after Shape : ', y_test.shape )"
      ],
      "metadata": {
        "colab": {
          "base_uri": "https://localhost:8080/"
        },
        "id": "KcDfJBbVKHrO",
        "outputId": "bbb13a15-0784-46c9-afb7-ca9dd899518e"
      },
      "execution_count": null,
      "outputs": [
        {
          "output_type": "stream",
          "name": "stdout",
          "text": [
            "y Train before Shape :  (136,)\n",
            "y Train after Shape :  (136, 2)\n",
            "y Test before Shape :  (35,)\n",
            "y Test after Shape :  (35, 2)\n"
          ]
        }
      ]
    },
    {
      "cell_type": "code",
      "source": [
        "from zipfile import ZipFile\n",
        "file_name= \"mymodel.zip\"\n",
        "with ZipFile(file_name,'r') as zip:\n",
        "  zip.extractall()\n",
        "  print('done')"
      ],
      "metadata": {
        "colab": {
          "base_uri": "https://localhost:8080/"
        },
        "id": "OOoaGqh3O_pY",
        "outputId": "1ba6896f-a8ed-4017-d956-075dc077de61"
      },
      "execution_count": null,
      "outputs": [
        {
          "output_type": "stream",
          "name": "stdout",
          "text": [
            "done\n"
          ]
        }
      ]
    },
    {
      "cell_type": "code",
      "source": [
        "my_model = keras.models.load_model('vgg16-95-accuracy-brain.h5')"
      ],
      "metadata": {
        "id": "AKLMW5svNdV-"
      },
      "execution_count": null,
      "outputs": []
    },
    {
      "cell_type": "code",
      "source": [
        "my_model.summary()"
      ],
      "metadata": {
        "colab": {
          "base_uri": "https://localhost:8080/"
        },
        "id": "WzPioG2JN9-P",
        "outputId": "425389e6-3c84-4d2f-f4fa-d42e9ca8c79d"
      },
      "execution_count": null,
      "outputs": [
        {
          "output_type": "stream",
          "name": "stdout",
          "text": [
            "Model: \"sequential_10\"\n",
            "_________________________________________________________________\n",
            " Layer (type)                Output Shape              Param #   \n",
            "=================================================================\n",
            " block1_conv1 (Conv2D)       (None, 224, 224, 64)      1792      \n",
            "                                                                 \n",
            " block1_conv2 (Conv2D)       (None, 224, 224, 64)      36928     \n",
            "                                                                 \n",
            " block1_pool (MaxPooling2D)  (None, 112, 112, 64)      0         \n",
            "                                                                 \n",
            " block2_conv1 (Conv2D)       (None, 112, 112, 128)     73856     \n",
            "                                                                 \n",
            " block2_conv2 (Conv2D)       (None, 112, 112, 128)     147584    \n",
            "                                                                 \n",
            " block2_pool (MaxPooling2D)  (None, 56, 56, 128)       0         \n",
            "                                                                 \n",
            " block3_conv1 (Conv2D)       (None, 56, 56, 256)       295168    \n",
            "                                                                 \n",
            " block3_conv2 (Conv2D)       (None, 56, 56, 256)       590080    \n",
            "                                                                 \n",
            " block3_conv3 (Conv2D)       (None, 56, 56, 256)       590080    \n",
            "                                                                 \n",
            " block3_pool (MaxPooling2D)  (None, 28, 28, 256)       0         \n",
            "                                                                 \n",
            " block4_conv1 (Conv2D)       (None, 28, 28, 512)       1180160   \n",
            "                                                                 \n",
            " block4_conv2 (Conv2D)       (None, 28, 28, 512)       2359808   \n",
            "                                                                 \n",
            " block4_conv3 (Conv2D)       (None, 28, 28, 512)       2359808   \n",
            "                                                                 \n",
            " block4_pool (MaxPooling2D)  (None, 14, 14, 512)       0         \n",
            "                                                                 \n",
            " block5_conv1 (Conv2D)       (None, 14, 14, 512)       2359808   \n",
            "                                                                 \n",
            " block5_conv2 (Conv2D)       (None, 14, 14, 512)       2359808   \n",
            "                                                                 \n",
            " block5_conv3 (Conv2D)       (None, 14, 14, 512)       2359808   \n",
            "                                                                 \n",
            " block5_pool (MaxPooling2D)  (None, 7, 7, 512)         0         \n",
            "                                                                 \n",
            " flatten (Flatten)           (None, 25088)             0         \n",
            "                                                                 \n",
            " dense_17 (Dense)            (None, 32)                802848    \n",
            "                                                                 \n",
            " dense_18 (Dense)            (None, 16)                528       \n",
            "                                                                 \n",
            " dense_19 (Dense)            (None, 16)                272       \n",
            "                                                                 \n",
            " dense_20 (Dense)            (None, 2)                 34        \n",
            "                                                                 \n",
            "=================================================================\n",
            "Total params: 15,518,370\n",
            "Trainable params: 803,682\n",
            "Non-trainable params: 14,714,688\n",
            "_________________________________________________________________\n"
          ]
        }
      ]
    },
    {
      "cell_type": "code",
      "source": [
        "for layer in my_model.layers[:-1]:\n",
        "    layer.trainable =False\n",
        "my_model.fit(X_train,y_train,epochs=5,validation_split=.2,verbose=1)"
      ],
      "metadata": {
        "colab": {
          "base_uri": "https://localhost:8080/"
        },
        "id": "CyuupoJWOAzp",
        "outputId": "1b0113b6-23ae-42a1-ea52-ce404260f35d"
      },
      "execution_count": null,
      "outputs": [
        {
          "output_type": "stream",
          "name": "stdout",
          "text": [
            "Epoch 1/5\n",
            "4/4 [==============================] - 62s 15s/step - loss: 3.3808 - accuracy: 0.7685 - val_loss: 0.2510 - val_accuracy: 0.8929\n",
            "Epoch 2/5\n",
            "4/4 [==============================] - 60s 15s/step - loss: 0.0346 - accuracy: 0.9907 - val_loss: 0.0221 - val_accuracy: 1.0000\n",
            "Epoch 3/5\n",
            "4/4 [==============================] - 60s 15s/step - loss: 0.0025 - accuracy: 1.0000 - val_loss: 0.0385 - val_accuracy: 0.9643\n",
            "Epoch 4/5\n",
            "4/4 [==============================] - 60s 15s/step - loss: 9.6259e-04 - accuracy: 1.0000 - val_loss: 0.0389 - val_accuracy: 0.9643\n",
            "Epoch 5/5\n",
            "4/4 [==============================] - 60s 15s/step - loss: 7.7877e-04 - accuracy: 1.0000 - val_loss: 0.0419 - val_accuracy: 0.9643\n"
          ]
        },
        {
          "output_type": "execute_result",
          "data": {
            "text/plain": [
              "<keras.callbacks.History at 0x7fa996ec0b90>"
            ]
          },
          "metadata": {},
          "execution_count": 76
        }
      ]
    },
    {
      "cell_type": "code",
      "source": [
        "my_model.evaluate(X_test,y_test)"
      ],
      "metadata": {
        "colab": {
          "base_uri": "https://localhost:8080/"
        },
        "id": "oQxgeesrOGtI",
        "outputId": "78f66dfc-ea1b-4873-b9ec-41d6c5fa1844"
      },
      "execution_count": null,
      "outputs": [
        {
          "output_type": "stream",
          "name": "stdout",
          "text": [
            "2/2 [==============================] - 16s 1s/step - loss: 0.2455 - accuracy: 0.9429\n"
          ]
        },
        {
          "output_type": "execute_result",
          "data": {
            "text/plain": [
              "[0.2454758733510971, 0.9428571462631226]"
            ]
          },
          "metadata": {},
          "execution_count": 77
        }
      ]
    },
    {
      "cell_type": "code",
      "source": [
        "y_hat = my_model.predict(X_test)"
      ],
      "metadata": {
        "id": "hu_x9I1UOMg6"
      },
      "execution_count": null,
      "outputs": []
    },
    {
      "cell_type": "code",
      "source": [
        "print(classification_report(np.argmax(y_test,axis=1),np.argmax(y_hat,axis=1)))"
      ],
      "metadata": {
        "colab": {
          "base_uri": "https://localhost:8080/"
        },
        "id": "vdbETHCpOSB4",
        "outputId": "7ec4e491-c344-45d5-8530-b323146fa7e8"
      },
      "execution_count": null,
      "outputs": [
        {
          "output_type": "stream",
          "name": "stdout",
          "text": [
            "              precision    recall  f1-score   support\n",
            "\n",
            "           0       1.00      0.90      0.95        20\n",
            "           1       0.88      1.00      0.94        15\n",
            "\n",
            "    accuracy                           0.94        35\n",
            "   macro avg       0.94      0.95      0.94        35\n",
            "weighted avg       0.95      0.94      0.94        35\n",
            "\n"
          ]
        }
      ]
    },
    {
      "cell_type": "code",
      "source": [
        "print(confusion_matrix(np.argmax(y_test,axis=1),np.argmax(y_hat,axis=1)))\n"
      ],
      "metadata": {
        "colab": {
          "base_uri": "https://localhost:8080/"
        },
        "id": "vxPRfZHiOVkZ",
        "outputId": "907e7196-364d-4dd8-ef26-599d3797af4f"
      },
      "execution_count": null,
      "outputs": [
        {
          "output_type": "stream",
          "name": "stdout",
          "text": [
            "[[18  2]\n",
            " [ 0 15]]\n"
          ]
        }
      ]
    },
    {
      "cell_type": "code",
      "source": [
        ""
      ],
      "metadata": {
        "id": "z_hXE7pTObDY"
      },
      "execution_count": null,
      "outputs": []
    }
  ]
}